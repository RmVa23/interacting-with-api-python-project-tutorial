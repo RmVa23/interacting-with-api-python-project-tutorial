{
    "cells": [
        {
            "cell_type": "markdown",
            "metadata": {},
            "source": [
                "# Explore here"
            ]
        },
        {
            "cell_type": "code",
            "execution_count": 1,
            "metadata": {},
            "outputs": [],
            "source": [
                "import pandas as pd\n",
                "import spotipy\n",
                "import os\n",
                "from dotenv import load_dotenv\n",
                "import matplotlib.pyplot as plt"
            ]
        },
        {
            "cell_type": "code",
            "execution_count": 2,
            "metadata": {},
            "outputs": [],
            "source": [
                "load_dotenv()\n",
                "\n",
                "client_id = os.environ.get(\"Client_ID\")\n",
                "client_secret = os.environ.get(\"Client_secret\")\n",
                "\n",
                "sp = spotipy.Spotify(auth_manager=spotipy.oauth2.SpotifyClientCredentials(client_id=client_id, client_secret=client_secret))\n"
            ]
        },
        {
            "cell_type": "code",
            "execution_count": 3,
            "metadata": {},
            "outputs": [],
            "source": [
                "# Código de spotify del artista (en este caso los Strokes)\n",
                "the_strokes = '0epOFNiUfyON9EYx7Tpr6V'"
            ]
        },
        {
            "cell_type": "code",
            "execution_count": 4,
            "metadata": {},
            "outputs": [],
            "source": [
                "# Solicitud a la API con nuestras claves de acceso (sp) de los datos del artista - (sobra)\n",
                "artist = sp.artist('0epOFNiUfyON9EYx7Tpr6V')"
            ]
        },
        {
            "cell_type": "code",
            "execution_count": 5,
            "metadata": {},
            "outputs": [],
            "source": [
                "# Solicitud a la API del top de canciones del artista de interés\n",
                "top_tracks_response = sp.artist_top_tracks(the_strokes)"
            ]
        },
        {
            "cell_type": "code",
            "execution_count": 6,
            "metadata": {},
            "outputs": [],
            "source": [
                "# Extraemos la información de las canciones principales\n",
                "top_tracks = top_tracks_response['tracks']"
            ]
        },
        {
            "cell_type": "code",
            "execution_count": 7,
            "metadata": {},
            "outputs": [],
            "source": [
                "# Lista para almacenar los resultados (necesaria para posteriormente convertir a DataFrame)\n",
                "best_songs_strokes = []"
            ]
        },
        {
            "cell_type": "code",
            "execution_count": 8,
            "metadata": {},
            "outputs": [
                {
                    "name": "stdout",
                    "output_type": "stream",
                    "text": [
                        "Top 10 de canciones del artista:\n",
                        "1. The Adults Are Talking - 81 - 309053\n",
                        "2. Last Nite - 69 - 193373\n",
                        "3. Reptilia - 77 - 219826\n",
                        "4. Someday - 69 - 183440\n",
                        "5. You Only Live Once - 74 - 189226\n",
                        "6. Call It Fate, Call It Karma - 71 - 204773\n",
                        "7. Selfless - 70 - 222093\n",
                        "8. 12:51 - 69 - 153133\n",
                        "9. Under Cover of Darkness - 68 - 235546\n",
                        "10. Ode To The Mets - 68 - 351786\n"
                    ]
                }
            ],
            "source": [
                "# Sacar nombre de la canción, duración y popularidad\n",
                "# Iteramos sobre las canciones principales y mostramos sus nombres\n",
                "\n",
                "print(\"Top 10 de canciones del artista:\")\n",
                "for i, track in enumerate(top_tracks[:10], 1):  # 1. enumerate() es una función de Python que toma una secuencia (en este caso, la lista top_tracks[:10] que contiene las primeras 10 canciones principales del artista)\n",
                "    nombre = track['name']                      #   y devuelve un iterador que genera pares (índice, elemento) para cada elemento en la secuencia. El segundo argumento opcional 1 especifica el valor inicial del índice, que en este caso comienza en 1 en lugar del valor predeterminado 0.\n",
                "    popularidad = track['popularity']           # 2. for i, track in ...: Esto es una declaración de bucle for que itera sobre los elementos generados por enumerate().\n",
                "    duracion = track['duration_ms']             #   En cada iteración, i será el índice de la canción en la lista (1, 2, 3, ..., 10) y track será la información de la canción.\n",
                "    print(f\"{i}. {nombre} - {popularidad} - {duracion}\")\n",
                "\n",
                "    # Añadimos la información extraída de interés a la lista (dentro del bucle!!)\n",
                "    best_songs_strokes.append({'Nombre': nombre, 'Popularidad': popularidad, 'Duración (ms)': duracion})\n",
                "\n",
                "# Convertimos la lista en un DataFrame\n",
                "data = pd.DataFrame(best_songs_strokes)"
            ]
        },
        {
            "cell_type": "code",
            "execution_count": 14,
            "metadata": {},
            "outputs": [
                {
                    "data": {
                        "text/html": [
                            "<div>\n",
                            "<style scoped>\n",
                            "    .dataframe tbody tr th:only-of-type {\n",
                            "        vertical-align: middle;\n",
                            "    }\n",
                            "\n",
                            "    .dataframe tbody tr th {\n",
                            "        vertical-align: top;\n",
                            "    }\n",
                            "\n",
                            "    .dataframe thead th {\n",
                            "        text-align: right;\n",
                            "    }\n",
                            "</style>\n",
                            "<table border=\"1\" class=\"dataframe\">\n",
                            "  <thead>\n",
                            "    <tr style=\"text-align: right;\">\n",
                            "      <th></th>\n",
                            "      <th>Nombre</th>\n",
                            "      <th>Popularidad</th>\n",
                            "      <th>Duración (ms)</th>\n",
                            "    </tr>\n",
                            "  </thead>\n",
                            "  <tbody>\n",
                            "    <tr>\n",
                            "      <th>4</th>\n",
                            "      <td>You Only Live Once</td>\n",
                            "      <td>74</td>\n",
                            "      <td>189226</td>\n",
                            "    </tr>\n",
                            "    <tr>\n",
                            "      <th>2</th>\n",
                            "      <td>Reptilia</td>\n",
                            "      <td>77</td>\n",
                            "      <td>219826</td>\n",
                            "    </tr>\n",
                            "    <tr>\n",
                            "      <th>0</th>\n",
                            "      <td>The Adults Are Talking</td>\n",
                            "      <td>81</td>\n",
                            "      <td>309053</td>\n",
                            "    </tr>\n",
                            "  </tbody>\n",
                            "</table>\n",
                            "</div>"
                        ],
                        "text/plain": [
                            "                   Nombre  Popularidad  Duración (ms)\n",
                            "4      You Only Live Once           74         189226\n",
                            "2                Reptilia           77         219826\n",
                            "0  The Adults Are Talking           81         309053"
                        ]
                    },
                    "execution_count": 14,
                    "metadata": {},
                    "output_type": "execute_result"
                }
            ],
            "source": [
                "# Ordenamos el dataframe por popularidad creciente y mostramos el top 3\n",
                "data_ordenado = data.sort_values(by='Popularidad')\n",
                "top_3 = data_ordenado.tail(3)\n",
                "top_3"
            ]
        },
        {
            "cell_type": "markdown",
            "metadata": {},
            "source": [
                "Análisis popularidad - duracion"
            ]
        },
        {
            "cell_type": "code",
            "execution_count": 10,
            "metadata": {},
            "outputs": [
                {
                    "data": {
                        "image/png": "[encoded data removed]",
                        "text/plain": [
                            "<Figure size 1000x500 with 1 Axes>"
                        ]
                    },
                    "metadata": {},
                    "output_type": "display_data"
                }
            ],
            "source": [
                "\n",
                "plt.figure(figsize=(10, 5))\n",
                "plt.scatter(data['Duración (ms)'], data['Popularidad'], color='blue')\n",
                "plt.title('Relación entre Popularidad y Duración de las Canciones')\n",
                "plt.xlabel('Duración (ms)')\n",
                "plt.ylabel('Popularidad')\n",
                "plt.grid(True)\n",
                "plt.show()\n"
            ]
        },
        {
            "cell_type": "markdown",
            "metadata": {},
            "source": [
                "Correlación entre la popularidad y la duración de las canciones"
            ]
        },
        {
            "cell_type": "code",
            "execution_count": 11,
            "metadata": {},
            "outputs": [
                {
                    "name": "stdout",
                    "output_type": "stream",
                    "text": [
                        "Correlación entre popularidad y duración: 0.24196102914917741\n",
                        "Como podemos observar tanto en el gráfico como en la metida cuantitativa (0.24196102914917741), apenas hay correlacion entre la popularidad de las canciones y su duración.\n"
                    ]
                }
            ],
            "source": [
                "correlacion = data['Popularidad'].corr(data['Duración (ms)'])\n",
                "print(\"Correlación entre popularidad y duración:\", correlacion)\n",
                "# La correlación varía entre -1 y 1. Un valor cercano a 1 indica una correlación positiva (las variables aumentan juntas),\n",
                "# un valor cercano a -1 indica una correlación negativa (una variable aumenta mientras que la otra disminuye)\n",
                "# y un valor cercano a 0 indica una correlación débil o nula.\n",
                "print(f\"Como podemos observar tanto en el gráfico como en la metida cuantitativa ({correlacion}), apenas hay correlacion entre la popularidad de las canciones y su duración.\")"
            ]
        },
        {
            "cell_type": "markdown",
            "metadata": {},
            "source": [
                "Estadísticas descriptivas de la popularidad"
            ]
        },
        {
            "cell_type": "code",
            "execution_count": 15,
            "metadata": {},
            "outputs": [
                {
                    "name": "stdout",
                    "output_type": "stream",
                    "text": [
                        "Estadísticas descriptivas de la popularidad:\n"
                    ]
                },
                {
                    "data": {
                        "text/plain": [
                            "count    10.000000\n",
                            "mean     71.600000\n",
                            "std       4.376706\n",
                            "min      68.000000\n",
                            "25%      69.000000\n",
                            "50%      69.500000\n",
                            "75%      73.250000\n",
                            "max      81.000000\n",
                            "Name: Popularidad, dtype: float64"
                        ]
                    },
                    "execution_count": 15,
                    "metadata": {},
                    "output_type": "execute_result"
                }
            ],
            "source": [
                "popularity_stats = data['Popularidad'].describe()\n",
                "print(\"Estadísticas descriptivas de la popularidad:\")\n",
                "popularity_stats"
            ]
        },
        {
            "cell_type": "markdown",
            "metadata": {},
            "source": [
                "La desviación estándar de la popularidad es relativamente baja, lo que indica que las puntuaciones de popularidad están relativamente cerca de la media, con una dispersión moderada alrededor de la media\n",
                "\n",
                "Con estas estadísticas, podemos concluir que la mayoría de las canciones tienen una popularidad cercana a la media, con una dispersión moderada alrededor de ella. La popularidad de las canciones varía desde 70 hasta 83, con la mayoría de las canciones teniendo una popularidad en el rango de 70 a 75.\n"
            ]
        },
        {
            "cell_type": "markdown",
            "metadata": {},
            "source": [
                "Matriz de correlación"
            ]
        },
        {
            "cell_type": "code",
            "execution_count": 13,
            "metadata": {},
            "outputs": [
                {
                    "name": "stdout",
                    "output_type": "stream",
                    "text": [
                        "               Popularidad  Duración (ms)\n",
                        "Popularidad       1.000000       0.241961\n",
                        "Duración (ms)     0.241961       1.000000\n"
                    ]
                }
            ],
            "source": [
                "matrix = data[['Popularidad', 'Duración (ms)']]\n",
                "correlation_matrix = matrix.corr()\n",
                "print(correlation_matrix)\n"
            ]
        },
        {
            "cell_type": "markdown",
            "metadata": {},
            "source": [
                "En conclusión, la duración de las canciones no tiene un efecto directo en su popularidad, hay otras variables que parecen influír más.\n",
                "\n",
                "Sin embargo, si que hay una muy baja correlación positiva entre la popularidad y la duracion, así que podríamos decir que las canciones más largas suelen ser bastante populares. Esto puede deberse a que éstas tambien tienen una mayor elaboración, tanto técnica como artística, siendo apreciadas por sus oyentes tanto como otros singles más \"comerciales\"."
            ]
        }
    ],
    "metadata": {
        "kernelspec": {
            "display_name": "Python 3.8.13 64-bit ('3.8.13')",
            "language": "python",
            "name": "python3"
        },
        "language_info": {
            "codemirror_mode": {
                "name": "ipython",
                "version": 3
            },
            "file_extension": ".py",
            "mimetype": "text/x-python",
            "name": "python",
            "nbconvert_exporter": "python",
            "pygments_lexer": "ipython3",
            "version": "3.11.4"
        },
        "orig_nbformat": 4,
        "vscode": {
            "interpreter": {
                "hash": "110cc1dee26208153f2972f08a2ad52b6a56238dc66d48e87fb757ef2996db56"
            }
        }
    },
    "nbformat": 4,
    "nbformat_minor": 2
}
